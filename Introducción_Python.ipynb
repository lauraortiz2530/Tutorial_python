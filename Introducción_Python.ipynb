{
 "cells": [
  {
   "cell_type": "markdown",
   "metadata": {},
   "source": [
    "# Tutorial de Python"
   ]
  },
  {
   "cell_type": "markdown",
   "metadata": {},
   "source": [
    "## Contenido \n"
   ]
  },
  {
   "cell_type": "markdown",
   "metadata": {},
   "source": [
    "### Introducción a Python\n",
    "* ¿Qué es Python?\n",
    "* Iniciación en Python\n",
    "\n",
    "### Tipos de datos y variables \n",
    "* Variables\n",
    "* Tipos de datos básicos \n",
    "* Conversiones entre tipos de datos \n",
    "* Identificación de tipo de dato\n",
    "\n",
    "### Operaciones entre datos \n",
    "* Operaciones aritmeticas \n",
    "* Operaciones con cadenas \n",
    "* Operadores lógicos \n",
    "* Operadores de comparación \n",
    "\n",
    "### Indexación de estructuras de datos\n",
    "* Listas\n",
    "* Tuplas\n",
    "* Diccionarios \n",
    "* Conjuntos(Sets)\n",
    "\n",
    "### Estructuras de control \n",
    "* Condicionales \n",
    "* Bucles \n",
    "* Control de bucles \n",
    "### Funciones \n",
    "* Definición de funciones \n",
    "* Valores de retorno\n",
    "* Alcance de las variables \n",
    "* Funciones anónimas \n",
    "\n",
    "### Modulos e importaciones \n",
    "* Importación de módulos \n",
    "* Módulos estándar \n",
    "* Creación de módulos propios \n",
    "* Uso de __name__ == '__main__'"
   ]
  },
  {
   "cell_type": "markdown",
   "metadata": {},
   "source": [
    "# Introducción a Python \n",
    "### ¿Qué es Python? \n",
    "Python es un lenguaje de programación que se caracteriza por ser fácil de leer y escribir ya que tiene una sintaxis simple y clara. Python tiene aplicaciones en áreas como desarrollo web, ciencia de datos y análisis, IA y aprendizaje automático, automatización de tareas y desarrollo de software.\n",
    "\n",
    "\n",
    "\n"
   ]
  },
  {
   "cell_type": "markdown",
   "metadata": {},
   "source": [
    "### Iniciación en Python\n",
    "* Cómo escribir y ejecutar un programa simple en Python  "
   ]
  },
  {
   "cell_type": "code",
   "execution_count": null,
   "metadata": {},
   "outputs": [
    {
     "name": "stdout",
     "output_type": "stream",
     "text": [
      "Hola mundo\n"
     ]
    }
   ],
   "source": [
    "print(\"Hola mundo\")"
   ]
  },
  {
   "cell_type": "markdown",
   "metadata": {},
   "source": [
    "* Usar la consola para probar lineas de código y obtener retroalimentación instantánea "
   ]
  },
  {
   "cell_type": "code",
   "execution_count": null,
   "metadata": {},
   "outputs": [
    {
     "data": {
      "text/plain": [
       "4"
      ]
     },
     "execution_count": 21,
     "metadata": {},
     "output_type": "execute_result"
    }
   ],
   "source": [
    "2+2\n"
   ]
  },
  {
   "cell_type": "code",
   "execution_count": null,
   "metadata": {},
   "outputs": [
    {
     "name": "stdout",
     "output_type": "stream",
     "text": [
      "Hola,Python\n"
     ]
    }
   ],
   "source": [
    "print(\"Hola,\" + \"Python\")"
   ]
  },
  {
   "cell_type": "markdown",
   "metadata": {},
   "source": [
    "* Uso de comentarios para explicar código"
   ]
  },
  {
   "cell_type": "code",
   "execution_count": null,
   "metadata": {},
   "outputs": [],
   "source": [
    "# Esto es un comentario"
   ]
  },
  {
   "cell_type": "markdown",
   "metadata": {},
   "source": [
    "* Errores frecuentes en Python \n",
    "    - Sintaxis incorrecta \n",
    "    - Errores de tipografía "
   ]
  },
  {
   "cell_type": "markdown",
   "metadata": {},
   "source": [
    "# Tipos de datos y variables \n",
    "### Variables \n",
    "* Definición de variables \n",
    "   - Es un nombre que se utiliza para almacenar datos. Las variables actuan como etiquetas que hacen referencia a valores almacenados en la memoria. Las variables se pueden reasignar con un nuevo valor a los largo del código.\n",
    "   - Las variables pueden ser númericas o de texto\n"
   ]
  },
  {
   "cell_type": "code",
   "execution_count": null,
   "metadata": {},
   "outputs": [
    {
     "data": {
      "text/plain": [
       "20"
      ]
     },
     "execution_count": 24,
     "metadata": {},
     "output_type": "execute_result"
    }
   ],
   "source": [
    "mi_variable = 20 #La variable es igual a 20\n",
    "mi_variable #Al llamar la variable se visualiza el 20"
   ]
  },
  {
   "cell_type": "code",
   "execution_count": null,
   "metadata": {},
   "outputs": [
    {
     "data": {
      "text/plain": [
       "'Hola mundo'"
      ]
     },
     "execution_count": 25,
     "metadata": {},
     "output_type": "execute_result"
    }
   ],
   "source": [
    "texto = \"Hola mundo\" #Las variables pueden contener texto \n",
    "texto"
   ]
  },
  {
   "cell_type": "markdown",
   "metadata": {},
   "source": [
    "## Reglas para nombrar variables \n",
    "   - Debe comenzar con una letra o un guion bajo(_), nunca con número\n",
    "   - No puede contener espacios, se usan guiones bajos para separar palabras(mi_variable en vez de mi variable)\n",
    "   - No se pueden usar palabras reservadas de Python(if,ifelse,while,etc)\n",
    "   - Nombres de variables sensibles a mayúsculas(mi_variable y Mi_variable son diferentes)\n"
   ]
  },
  {
   "cell_type": "code",
   "execution_count": null,
   "metadata": {},
   "outputs": [],
   "source": [
    "#Ejemplo correcto \n",
    "\n",
    "edad=20\n",
    "nombre_completo = \"Laura Ortiz Franco\""
   ]
  },
  {
   "cell_type": "code",
   "execution_count": null,
   "metadata": {},
   "outputs": [
    {
     "ename": "SyntaxError",
     "evalue": "invalid decimal literal (3829622065.py, line 3)",
     "output_type": "error",
     "traceback": [
      "\u001b[1;36m  Cell \u001b[1;32mIn[27], line 3\u001b[1;36m\u001b[0m\n\u001b[1;33m    3nombre = \"Inválido\" #No puede comenzar con número\u001b[0m\n\u001b[1;37m    ^\u001b[0m\n\u001b[1;31mSyntaxError\u001b[0m\u001b[1;31m:\u001b[0m invalid decimal literal\n"
     ]
    }
   ],
   "source": [
    "#Ejemplo incorrecto\n",
    "\n",
    "3nombre = \"Inválido\" #No puede comenzar con número \n",
    "mi variable = 5 #No puede tener espacios "
   ]
  },
  {
   "cell_type": "markdown",
   "metadata": {},
   "source": [
    "* Asignación de valores \n",
    "   - El valor de la derecha se asigna al nmbre de la variable de la izquierda. Los valores de una variable se asiganan con el operador `=`"
   ]
  },
  {
   "cell_type": "code",
   "execution_count": null,
   "metadata": {},
   "outputs": [
    {
     "data": {
      "text/plain": [
       "'Adiós'"
      ]
     },
     "execution_count": 25,
     "metadata": {},
     "output_type": "execute_result"
    }
   ],
   "source": [
    "a = 3\n",
    "a\n",
    "b= \"Adiós\"\n",
    "b"
   ]
  },
  {
   "cell_type": "markdown",
   "metadata": {},
   "source": [
    "## Tipos de datos básicos "
   ]
  },
  {
   "cell_type": "markdown",
   "metadata": {},
   "source": [
    "### Enteros `(int)`\n",
    "* Números sin decimales "
   ]
  },
  {
   "cell_type": "code",
   "execution_count": null,
   "metadata": {},
   "outputs": [],
   "source": [
    "numero_entero = 150"
   ]
  },
  {
   "cell_type": "markdown",
   "metadata": {},
   "source": [
    "### Flotantes `(float)`\n",
    "* Números con decimales"
   ]
  },
  {
   "cell_type": "code",
   "execution_count": null,
   "metadata": {},
   "outputs": [],
   "source": [
    "numero_flotante = 3.1416"
   ]
  },
  {
   "cell_type": "markdown",
   "metadata": {},
   "source": [
    "### Cadenas de texto `(str)`\n",
    "* Texto, encerrado entre comillas simples o dobles"
   ]
  },
  {
   "cell_type": "code",
   "execution_count": null,
   "metadata": {},
   "outputs": [],
   "source": [
    "texto = 'Buenas tardes'"
   ]
  },
  {
   "cell_type": "markdown",
   "metadata": {},
   "source": [
    "### Booleanos `(bool)`\n",
    "* Grado de verdad, `True` o `False`"
   ]
  },
  {
   "cell_type": "code",
   "execution_count": null,
   "metadata": {},
   "outputs": [],
   "source": [
    "es_verdadero = True \n",
    "es_falso = False"
   ]
  },
  {
   "cell_type": "markdown",
   "metadata": {},
   "source": [
    "### Tipos de datos complejos `(complex)`\n",
    "* Números reales con parte real e imaginaria "
   ]
  },
  {
   "cell_type": "code",
   "execution_count": null,
   "metadata": {},
   "outputs": [],
   "source": [
    "numero_complejo = 2 + 4j "
   ]
  },
  {
   "cell_type": "markdown",
   "metadata": {},
   "source": [
    "## Conversiones entre tipos de datos\n",
    "* Te permite convertir entre distintos tipos de datos utilizando funciones como `int()`,`float()`,`str()`y `bool()`"
   ]
  },
  {
   "cell_type": "code",
   "execution_count": null,
   "metadata": {},
   "outputs": [],
   "source": [
    "numero = \"100\"  # Es una cadena\n",
    "numero_entero = int(numero)  # Se convierte en un entero\n",
    "numero_flotante = float(numero)  # En un número flotante\n",
    "es_verdadero = bool(1)  # True, porque 1 se evalúa como verdadero\n",
    "texto = str(100)  # Convierte el número entero 100 a una cadena \"100\""
   ]
  },
  {
   "cell_type": "markdown",
   "metadata": {},
   "source": [
    "## Identificación del tipo de dato \n",
    "* La función `type()` permite verificar el tipo de una variable"
   ]
  },
  {
   "cell_type": "code",
   "execution_count": null,
   "metadata": {},
   "outputs": [
    {
     "name": "stdout",
     "output_type": "stream",
     "text": [
      "<class 'int'>\n",
      "<class 'float'>\n",
      "<class 'str'>\n",
      "<class 'bool'>\n",
      "<class 'complex'>\n"
     ]
    }
   ],
   "source": [
    "a = 5\n",
    "b = 3.14\n",
    "c = \"Python\"\n",
    "d = True\n",
    "e = 2 + 3j\n",
    "\n",
    "print(type(a))  # <class 'int'>\n",
    "print(type(b))  # <class 'float'>\n",
    "print(type(c))  # <class 'str'>\n",
    "print(type(d))  # <class 'bool'>\n",
    "print(type(e))  # <class 'complex'>\n"
   ]
  },
  {
   "cell_type": "markdown",
   "metadata": {},
   "source": [
    "# Operaciones entre datos "
   ]
  },
  {
   "cell_type": "markdown",
   "metadata": {},
   "source": [
    "## Operaciones aritméticas \n"
   ]
  },
  {
   "cell_type": "markdown",
   "metadata": {},
   "source": [
    "* Suma(`+`), resta(`-`), multiplicación(`*`), división(`/`), división entera(`//`), módulo(`%`), exponenciación(`**`)"
   ]
  },
  {
   "cell_type": "code",
   "execution_count": null,
   "metadata": {},
   "outputs": [],
   "source": [
    "#Suma\n",
    "suma = 5 + 3  # Resultado: 8"
   ]
  },
  {
   "cell_type": "code",
   "execution_count": null,
   "metadata": {},
   "outputs": [],
   "source": [
    "#Resta\n",
    "resta = 10 - 7  # Resultado: 3"
   ]
  },
  {
   "cell_type": "code",
   "execution_count": null,
   "metadata": {},
   "outputs": [],
   "source": [
    "#Multiplicación\n",
    "multiplicacion = 4 * 3  # Resultado: 12"
   ]
  },
  {
   "cell_type": "code",
   "execution_count": null,
   "metadata": {},
   "outputs": [],
   "source": [
    "#División \n",
    "division = 10 / 3  # Resultado: 3.3333...\n",
    "#Retorna un número flotante"
   ]
  },
  {
   "cell_type": "code",
   "execution_count": null,
   "metadata": {},
   "outputs": [],
   "source": [
    "#División entera \n",
    "division_entera = 10 // 3  # Resultado: 3\n",
    "#Retorna el resultado entero de la división"
   ]
  },
  {
   "cell_type": "code",
   "execution_count": null,
   "metadata": {},
   "outputs": [],
   "source": [
    "#Módulo\n",
    "modulo = 10 % 3  # Resultado: 1\n",
    "#Retorna el residuo de una división"
   ]
  },
  {
   "cell_type": "code",
   "execution_count": null,
   "metadata": {},
   "outputs": [],
   "source": [
    "#Potenciación \n",
    "potencia = 2 ** 3  # Resultado: 8\n",
    "#Eleva un número a la potencia de otro"
   ]
  },
  {
   "cell_type": "markdown",
   "metadata": {},
   "source": [
    "## Operaciones con cadenas \n",
    "Las cadenas de texto (`str`) también pueden ser operadas "
   ]
  },
  {
   "cell_type": "markdown",
   "metadata": {},
   "source": [
    "### Concatenación\n",
    "* Sirve para combinar dos cadenas usando el operador `+`"
   ]
  },
  {
   "cell_type": "code",
   "execution_count": null,
   "metadata": {},
   "outputs": [
    {
     "data": {
      "text/plain": [
       "'Hola a todos'"
      ]
     },
     "execution_count": 3,
     "metadata": {},
     "output_type": "execute_result"
    }
   ],
   "source": [
    "cadena1 = \"Hola a\"\n",
    "cadena2 = \" todos\"\n",
    "resultado = cadena1 + cadena2 \n",
    "resultado"
   ]
  },
  {
   "cell_type": "markdown",
   "metadata": {},
   "source": [
    "### Repetición \n",
    "* Repite la cadena un número específico  de veces usando el operador `*`"
   ]
  },
  {
   "cell_type": "code",
   "execution_count": null,
   "metadata": {},
   "outputs": [
    {
     "data": {
      "text/plain": [
       "'Hola, que tal? Hola, que tal? Hola, que tal? Hola, que tal? Hola, que tal? '"
      ]
     },
     "execution_count": 6,
     "metadata": {},
     "output_type": "execute_result"
    }
   ],
   "source": [
    "saludo = \"Hola, que tal? \" * 5\n",
    "saludo"
   ]
  },
  {
   "cell_type": "markdown",
   "metadata": {},
   "source": [
    "### Acceso a caracteres \n",
    "* Puedes acceder a un carácter específico de una cadena. Se logra usando los números desde el cero"
   ]
  },
  {
   "cell_type": "code",
   "execution_count": null,
   "metadata": {},
   "outputs": [
    {
     "data": {
      "text/plain": [
       "'P'"
      ]
     },
     "execution_count": 9,
     "metadata": {},
     "output_type": "execute_result"
    }
   ],
   "source": [
    "palabra = \"Python\"\n",
    "primera_letra = palabra[0]  \n",
    "primera_letra"
   ]
  },
  {
   "cell_type": "markdown",
   "metadata": {},
   "source": [
    "### Slicing\n",
    "* Extrae una porción de la cadena utilizando los índices "
   ]
  },
  {
   "cell_type": "code",
   "execution_count": null,
   "metadata": {},
   "outputs": [
    {
     "data": {
      "text/plain": [
       "'Pyt'"
      ]
     },
     "execution_count": 10,
     "metadata": {},
     "output_type": "execute_result"
    }
   ],
   "source": [
    "parte = palabra[0:3] \n",
    "parte"
   ]
  },
  {
   "cell_type": "markdown",
   "metadata": {},
   "source": [
    "## Operadores lógicos \n",
    "Se utilizan para combinaer condiciones booleanas (`True`o `False`)\n",
    "* `and`: Retorna `True` si ambas coniciones son verdaderas"
   ]
  },
  {
   "cell_type": "code",
   "execution_count": null,
   "metadata": {},
   "outputs": [
    {
     "data": {
      "text/plain": [
       "False"
      ]
     },
     "execution_count": 12,
     "metadata": {},
     "output_type": "execute_result"
    }
   ],
   "source": [
    "resultado = True and False  #Resultado: False\n",
    "resultado"
   ]
  },
  {
   "cell_type": "markdown",
   "metadata": {},
   "source": [
    "* `or`: Retorna `True`si al menos una condición es verdadera\n"
   ]
  },
  {
   "cell_type": "code",
   "execution_count": null,
   "metadata": {},
   "outputs": [
    {
     "data": {
      "text/plain": [
       "True"
      ]
     },
     "execution_count": 13,
     "metadata": {},
     "output_type": "execute_result"
    }
   ],
   "source": [
    "resultado = True or False  # Resultado: True\n",
    "resultado"
   ]
  },
  {
   "cell_type": "markdown",
   "metadata": {},
   "source": [
    "* `not`: Invierte el valor de la condición"
   ]
  },
  {
   "cell_type": "code",
   "execution_count": null,
   "metadata": {},
   "outputs": [
    {
     "data": {
      "text/plain": [
       "False"
      ]
     },
     "execution_count": 14,
     "metadata": {},
     "output_type": "execute_result"
    }
   ],
   "source": [
    "resultado = not True  # Resultado: False\n",
    "resultado"
   ]
  },
  {
   "cell_type": "markdown",
   "metadata": {},
   "source": [
    "## Operadores de comparación \n",
    "Estos operadores se usan para comparar valores y que estos tomen un grado de verdad según la condición \n",
    "* Igual a (`==`)"
   ]
  },
  {
   "cell_type": "code",
   "execution_count": null,
   "metadata": {},
   "outputs": [
    {
     "data": {
      "text/plain": [
       "True"
      ]
     },
     "execution_count": 15,
     "metadata": {},
     "output_type": "execute_result"
    }
   ],
   "source": [
    "resultado = 5 == 5  # Resultado: True\n",
    "resultado"
   ]
  },
  {
   "cell_type": "markdown",
   "metadata": {},
   "source": [
    "* Diferente de (`!=`)"
   ]
  },
  {
   "cell_type": "code",
   "execution_count": null,
   "metadata": {},
   "outputs": [
    {
     "data": {
      "text/plain": [
       "True"
      ]
     },
     "execution_count": 16,
     "metadata": {},
     "output_type": "execute_result"
    }
   ],
   "source": [
    "resultado = 5 != 3  # Resultado: True\n",
    "resultado"
   ]
  },
  {
   "cell_type": "markdown",
   "metadata": {},
   "source": [
    "* Menor que (`<`)"
   ]
  },
  {
   "cell_type": "code",
   "execution_count": null,
   "metadata": {},
   "outputs": [
    {
     "data": {
      "text/plain": [
       "True"
      ]
     },
     "execution_count": 17,
     "metadata": {},
     "output_type": "execute_result"
    }
   ],
   "source": [
    "resultado = 3 < 5  # Resultado: True\n",
    "resultado"
   ]
  },
  {
   "cell_type": "markdown",
   "metadata": {},
   "source": [
    "* Mayor que (`>`)"
   ]
  },
  {
   "cell_type": "code",
   "execution_count": null,
   "metadata": {},
   "outputs": [
    {
     "data": {
      "text/plain": [
       "True"
      ]
     },
     "execution_count": 18,
     "metadata": {},
     "output_type": "execute_result"
    }
   ],
   "source": [
    "resultado = 7 > 5  # Resultado: True\n",
    "resultado"
   ]
  },
  {
   "cell_type": "markdown",
   "metadata": {},
   "source": [
    "* Menor o igual que (`<=`)"
   ]
  },
  {
   "cell_type": "code",
   "execution_count": null,
   "metadata": {},
   "outputs": [
    {
     "data": {
      "text/plain": [
       "True"
      ]
     },
     "execution_count": 19,
     "metadata": {},
     "output_type": "execute_result"
    }
   ],
   "source": [
    "resultado = 3 <= 3  # Resultado: True\n",
    "resultado"
   ]
  },
  {
   "cell_type": "markdown",
   "metadata": {},
   "source": [
    "* Mayor o igual que (`>=`)"
   ]
  },
  {
   "cell_type": "code",
   "execution_count": null,
   "metadata": {},
   "outputs": [
    {
     "data": {
      "text/plain": [
       "True"
      ]
     },
     "execution_count": 20,
     "metadata": {},
     "output_type": "execute_result"
    }
   ],
   "source": [
    "resultado = 5 >= 2  # Resultado: True\n",
    "resultado"
   ]
  },
  {
   "cell_type": "markdown",
   "metadata": {},
   "source": [
    "# Indexación de estrucuras de datos\n",
    "## Listas \n",
    "Las listas son colecciones ordenadas y mutables\n",
    "### Acceso a elementos por índice \n",
    "* Los elementos de una lista se acceden usando índices, iniciando desde el cero "
   ]
  },
  {
   "cell_type": "code",
   "execution_count": null,
   "metadata": {},
   "outputs": [
    {
     "data": {
      "text/plain": [
       "50"
      ]
     },
     "execution_count": 22,
     "metadata": {},
     "output_type": "execute_result"
    }
   ],
   "source": [
    "mi_lista = [10, 20, 30, 40, 50]\n",
    "primer_elemento = mi_lista[0]  # Resultado: 10\n",
    "ultimo_elemento = mi_lista[-1]  # Resultado: 50 (índice negativo accede desde el final)\n",
    "primer_elemento\n",
    "ultimo_elemento"
   ]
  },
  {
   "cell_type": "markdown",
   "metadata": {},
   "source": [
    "### Slicing de listas \n",
    "* Puedes acceder a sublistas utilizando el slicing. Se debe especificar un rango de índices "
   ]
  },
  {
   "cell_type": "code",
   "execution_count": null,
   "metadata": {},
   "outputs": [
    {
     "data": {
      "text/plain": [
       "[30, 40, 50]"
      ]
     },
     "execution_count": 26,
     "metadata": {},
     "output_type": "execute_result"
    }
   ],
   "source": [
    "sublista = mi_lista[1:4]  \n",
    "sublista2 = mi_lista[:3]  # desde el inicio hasta el índice 2\n",
    "sublista3 = mi_lista[2:]  # desde el índice 2 hasta el final\n",
    "sublista\n",
    "sublista2\n",
    "sublista3"
   ]
  },
  {
   "cell_type": "markdown",
   "metadata": {},
   "source": [
    "## Tuplas \n",
    "Las tuplas son inmutables a diferencia de las listas \n",
    "### Acceso a elementos de tuplas \n",
    "* También se accede a sus elementos por medio de índices \n"
   ]
  },
  {
   "cell_type": "code",
   "execution_count": null,
   "metadata": {},
   "outputs": [
    {
     "data": {
      "text/plain": [
       "200"
      ]
     },
     "execution_count": 35,
     "metadata": {},
     "output_type": "execute_result"
    }
   ],
   "source": [
    "mi_tupla = (100, 200, 300)\n",
    "elemento = mi_tupla[1]  \n",
    "elemento"
   ]
  },
  {
   "cell_type": "markdown",
   "metadata": {},
   "source": [
    "## Diccionarios \n",
    "Los diccionarios son colecciones de pares clave-valor. Se accede a los valores usando las claves \n",
    "### Acceso a valores por clave \n",
    "* Los valores en los diccionarios se recuperan mediante su clave "
   ]
  },
  {
   "cell_type": "code",
   "execution_count": null,
   "metadata": {},
   "outputs": [
    {
     "data": {
      "text/plain": [
       "25"
      ]
     },
     "execution_count": 37,
     "metadata": {},
     "output_type": "execute_result"
    }
   ],
   "source": [
    "mi_diccionario = {\"nombre\": \"Ana\", \"edad\": 25, \"ciudad\": \"Bogotá\"}\n",
    "nombre = mi_diccionario[\"nombre\"]  \n",
    "edad = mi_diccionario[\"edad\"]  \n",
    "edad\n"
   ]
  },
  {
   "cell_type": "markdown",
   "metadata": {},
   "source": [
    "* Tambien se puede acceder a los valores mediante el método `.get()`. si la clave no existe, no arroja un error, sino `None`"
   ]
  },
  {
   "cell_type": "code",
   "execution_count": null,
   "metadata": {},
   "outputs": [
    {
     "data": {
      "text/plain": [
       "'Desconocida'"
      ]
     },
     "execution_count": 38,
     "metadata": {},
     "output_type": "execute_result"
    }
   ],
   "source": [
    "ciudad = mi_diccionario.get(\"ciudad\", \"Desconocida\")  # Resultado: \"Bogotá\"\n",
    "profesion = mi_diccionario.get(\"profesion\", \"Desconocida\")  # Resultado: \"Desconocida\"\n",
    "profesion"
   ]
  },
  {
   "cell_type": "markdown",
   "metadata": {},
   "source": [
    "## Conjuntos (`Sets`)\n",
    "Los conjuntos son colecciones desordenadas de elementos únicos. No permiten duplicados y no tienen indices \n",
    "### Operaciones básicas \n",
    "* Los conjuntos permiten operaciones como la unión, intersección y diferencia "
   ]
  },
  {
   "cell_type": "code",
   "execution_count": null,
   "metadata": {},
   "outputs": [
    {
     "data": {
      "text/plain": [
       "{3, 4}"
      ]
     },
     "execution_count": 39,
     "metadata": {},
     "output_type": "execute_result"
    }
   ],
   "source": [
    "conjunto1 = {1, 2, 3, 4}\n",
    "conjunto2 = {3, 4, 5, 6}\n",
    "\n",
    "union = conjunto1 | conjunto2 \n",
    "interseccion = conjunto1 & conjunto2  \n",
    "diferencia = conjunto1 - conjunto2  \n",
    "interseccion\n"
   ]
  },
  {
   "cell_type": "markdown",
   "metadata": {},
   "source": [
    "### Verificación de pertenencia con `in`\n",
    "* Permite verificar si un elemento esta o no en un conjunto"
   ]
  },
  {
   "cell_type": "code",
   "execution_count": null,
   "metadata": {},
   "outputs": [
    {
     "data": {
      "text/plain": [
       "False"
      ]
     },
     "execution_count": 40,
     "metadata": {},
     "output_type": "execute_result"
    }
   ],
   "source": [
    "elemento_en_conjunto = 3 in conjunto1\n",
    "elemento_no_en_conjunto = 5 in conjunto1  \n",
    "elemento_no_en_conjunto"
   ]
  },
  {
   "cell_type": "markdown",
   "metadata": {},
   "source": [
    "# Estructuras de control \n",
    "## Condicionales \n",
    "Permiten ejecutar bloques de código dependiendo del cumplimiento de una condición \n",
    "* `if`: Ejecuta un bloque de código si la condición es verdadera\n",
    "* `elif`: Permite verificar condiciones adicionales si la anterior fue falsa\n",
    "* `else`: Ejecuta un bloque de código cuando todas las condiciones anteriores son falsas "
   ]
  },
  {
   "cell_type": "code",
   "execution_count": null,
   "metadata": {},
   "outputs": [
    {
     "name": "stdout",
     "output_type": "stream",
     "text": [
      "Eres mayor de edad\n"
     ]
    }
   ],
   "source": [
    "edad = 20\n",
    "\n",
    "if edad < 18:\n",
    "    print(\"Eres menor de edad\")\n",
    "elif edad == 18:\n",
    "    print(\"Tienes 18 años\")\n",
    "else:\n",
    "    print(\"Eres mayor de edad\")\n"
   ]
  },
  {
   "cell_type": "markdown",
   "metadata": {},
   "source": [
    "## Bucles \n",
    "Los bucles permiten ejecutar un bloque de código varias veces, ya sea recorriendo una colección de elementos o mientras una condición sea verdadera \n",
    "`for`(iteración sobre listas,rangos,cadenas)\n",
    "* Un bucle `for` recorre secuencias (listas,tuplas,cadenas,diccionarios,etc.)"
   ]
  },
  {
   "cell_type": "code",
   "execution_count": null,
   "metadata": {},
   "outputs": [
    {
     "name": "stdout",
     "output_type": "stream",
     "text": [
      "1\n",
      "2\n",
      "3\n",
      "4\n",
      "5\n"
     ]
    }
   ],
   "source": [
    "#Listas\n",
    "mi_lista = [1, 2, 3, 4, 5]\n",
    "for numero in mi_lista:\n",
    "    print(numero)"
   ]
  },
  {
   "cell_type": "code",
   "execution_count": null,
   "metadata": {},
   "outputs": [
    {
     "name": "stdout",
     "output_type": "stream",
     "text": [
      "0\n",
      "1\n",
      "2\n",
      "3\n",
      "4\n"
     ]
    }
   ],
   "source": [
    "#Rangos\n",
    "for i in range(5):\n",
    "    print(i)"
   ]
  },
  {
   "cell_type": "code",
   "execution_count": null,
   "metadata": {},
   "outputs": [
    {
     "name": "stdout",
     "output_type": "stream",
     "text": [
      "P\n",
      "y\n",
      "t\n",
      "h\n",
      "o\n",
      "n\n"
     ]
    }
   ],
   "source": [
    "#Cadenas \n",
    "for letra in \"Python\":\n",
    "    print(letra)"
   ]
  },
  {
   "cell_type": "markdown",
   "metadata": {},
   "source": [
    "`while`(Bucle basado en condiciones)\n",
    "* Un bucle `while`se ejecuta siempre que la condición sea verdadera "
   ]
  },
  {
   "cell_type": "code",
   "execution_count": null,
   "metadata": {},
   "outputs": [
    {
     "name": "stdout",
     "output_type": "stream",
     "text": [
      "0\n",
      "1\n",
      "2\n",
      "3\n",
      "4\n"
     ]
    }
   ],
   "source": [
    "contador = 0\n",
    "\n",
    "while contador < 5:\n",
    "    print(contador)\n",
    "    contador += 1  # Incrementa el contador"
   ]
  },
  {
   "cell_type": "markdown",
   "metadata": {},
   "source": [
    "## Control de bucles \n",
    "Se usan instrucciones como `break`,`continue` y `else` para controlar el bucle\n",
    "`break`\n",
    "* Termina el bucle instantáneamente "
   ]
  },
  {
   "cell_type": "code",
   "execution_count": null,
   "metadata": {},
   "outputs": [
    {
     "name": "stdout",
     "output_type": "stream",
     "text": [
      "0\n",
      "1\n",
      "2\n",
      "3\n",
      "4\n"
     ]
    }
   ],
   "source": [
    "for numero in range(10):\n",
    "    if numero == 5:\n",
    "        break  # Se detiene cuando llega al 5\n",
    "    print(numero)"
   ]
  },
  {
   "cell_type": "markdown",
   "metadata": {},
   "source": [
    "`continue`\n",
    "* Salta a la siguiente iteración sin ejecutar el resto del código dentro del bucle"
   ]
  },
  {
   "cell_type": "code",
   "execution_count": null,
   "metadata": {},
   "outputs": [
    {
     "name": "stdout",
     "output_type": "stream",
     "text": [
      "0\n",
      "1\n",
      "2\n",
      "4\n"
     ]
    }
   ],
   "source": [
    "for numero in range(5):\n",
    "    if numero == 3:\n",
    "        continue  # Salta el número 3\n",
    "    print(numero)"
   ]
  },
  {
   "cell_type": "markdown",
   "metadata": {},
   "source": [
    "`else`en bucles\n",
    "* Se ejecuta cuando el bucle termina de manera normal\n"
   ]
  },
  {
   "cell_type": "code",
   "execution_count": null,
   "metadata": {},
   "outputs": [
    {
     "name": "stdout",
     "output_type": "stream",
     "text": [
      "0\n",
      "1\n",
      "2\n",
      "3\n",
      "4\n",
      "El bucle terminó\n"
     ]
    }
   ],
   "source": [
    "for numero in range(5):\n",
    "    print(numero)\n",
    "else:\n",
    "    print(\"El bucle terminó\")"
   ]
  },
  {
   "cell_type": "markdown",
   "metadata": {},
   "source": [
    "# Funciones"
   ]
  },
  {
   "cell_type": "markdown",
   "metadata": {},
   "source": [
    "\n",
    "## Definición de funciones \n",
    "* Las funciones se definen con `def`, seguidas por un nombre, paéntesis y dos puntos"
   ]
  },
  {
   "cell_type": "code",
   "execution_count": null,
   "metadata": {},
   "outputs": [],
   "source": [
    "def saludar():\n",
    "    print(\"¡Hola, Mundo!\")\n",
    "    saludar()  # Llama a la función y la ejecuta"
   ]
  },
  {
   "cell_type": "markdown",
   "metadata": {},
   "source": [
    "### Parámetros y argumentos \n",
    "* Los parámetros son variables que una función espera recibir cuando se llama. Los argumnetos son los valores que se pasan a la función "
   ]
  },
  {
   "cell_type": "code",
   "execution_count": null,
   "metadata": {},
   "outputs": [],
   "source": [
    "def saludar(nombre):\n",
    "    print(f\"¡Hola, {nombre}!\")\n",
    "    saludar(\"Ana\")  # Salida: ¡Hola, Ana!"
   ]
  },
  {
   "cell_type": "markdown",
   "metadata": {},
   "source": [
    "## Valores de retorno\n",
    "* Se pueden devolver valores usando la palabra clave `return`."
   ]
  },
  {
   "cell_type": "code",
   "execution_count": null,
   "metadata": {},
   "outputs": [],
   "source": [
    "def suma(a, b):\n",
    "    return a + b"
   ]
  },
  {
   "cell_type": "code",
   "execution_count": null,
   "metadata": {},
   "outputs": [
    {
     "name": "stdout",
     "output_type": "stream",
     "text": [
      "8\n"
     ]
    }
   ],
   "source": [
    "resultado = suma(5, 3)\n",
    "print(resultado)  # Salida: 8"
   ]
  },
  {
   "cell_type": "markdown",
   "metadata": {},
   "source": [
    "## Alcance de las variables \n",
    "* Las variables locales son aquellas definidas dentro de una función y no son accesibles fuera de ella \n",
    "* Las variables globales están definidas fuera de cualquier función y pueden ser accesibles en cualquier parte del código"
   ]
  },
  {
   "cell_type": "code",
   "execution_count": null,
   "metadata": {},
   "outputs": [
    {
     "name": "stdout",
     "output_type": "stream",
     "text": [
      "10\n"
     ]
    }
   ],
   "source": [
    "# Ejemplo de variables locales \n",
    "def ejemplo():\n",
    "    x = 10  \n",
    "    print(x)\n",
    "\n",
    "ejemplo()\n",
    "# print(x)  # Esto generaría un error, ya que 'x' no es accesible fuera de la función"
   ]
  },
  {
   "cell_type": "code",
   "execution_count": null,
   "metadata": {},
   "outputs": [
    {
     "name": "stdout",
     "output_type": "stream",
     "text": [
      "10\n"
     ]
    }
   ],
   "source": [
    "# Ejemplo de variables globales \n",
    "x = 10  # Variable global\n",
    "\n",
    "def mostrar():\n",
    "    print(x)  # Accede a la variable global\n",
    "\n",
    "mostrar()  # Salida: 10"
   ]
  },
  {
   "cell_type": "markdown",
   "metadata": {},
   "source": [
    "* Se pueden modificar las variables globales dentro de una función usando la palabra `global`"
   ]
  },
  {
   "cell_type": "code",
   "execution_count": null,
   "metadata": {},
   "outputs": [
    {
     "name": "stdout",
     "output_type": "stream",
     "text": [
      "20\n"
     ]
    }
   ],
   "source": [
    "y = 5\n",
    "\n",
    "def modificar_global():\n",
    "    global y\n",
    "    y = 20\n",
    "\n",
    "modificar_global()\n",
    "print(y) "
   ]
  },
  {
   "cell_type": "markdown",
   "metadata": {},
   "source": [
    "## Funciones anónimas (uso de `lambda`)\n",
    "* Las funciones anónimas son funciones pequeñas que no necesitan un nombre y se definen con la palabra clave `lambda`. Son funciones de una sola linea "
   ]
  },
  {
   "cell_type": "code",
   "execution_count": null,
   "metadata": {},
   "outputs": [
    {
     "name": "stdout",
     "output_type": "stream",
     "text": [
      "8\n"
     ]
    }
   ],
   "source": [
    "suma = lambda a, b: a + b\n",
    "print(suma(5, 3))  "
   ]
  },
  {
   "cell_type": "markdown",
   "metadata": {},
   "source": [
    "## Funciones con argumentos predeterminados \n",
    "* Se usan si no se pasa ningún argumento durante la llamada a la función "
   ]
  },
  {
   "cell_type": "code",
   "execution_count": null,
   "metadata": {},
   "outputs": [
    {
     "name": "stdout",
     "output_type": "stream",
     "text": [
      "¡Hola, Amigo!\n",
      "¡Hola, Ana!\n"
     ]
    }
   ],
   "source": [
    "def saludar(nombre=\"Amigo\"):\n",
    "    print(f\"¡Hola, {nombre}!\")\n",
    "\n",
    "saludar()  \n",
    "saludar(\"Ana\")  "
   ]
  },
  {
   "cell_type": "markdown",
   "metadata": {},
   "source": [
    "## Funciones con argumentos por nombre \n",
    "* Son útiles cuando la función tiene muchos parámetros. Se puede pasar por poscición o por nombre."
   ]
  },
  {
   "cell_type": "code",
   "execution_count": null,
   "metadata": {},
   "outputs": [
    {
     "name": "stdout",
     "output_type": "stream",
     "text": [
      "Nombre: Carlos, Edad: 30, Ciudad: Bogotá\n",
      "Nombre: Carlos, Edad: 30, Ciudad: Bogotá\n"
     ]
    }
   ],
   "source": [
    "def describir_persona(nombre, edad, ciudad):\n",
    "    print(f\"Nombre: {nombre}, Edad: {edad}, Ciudad: {ciudad}\")\n",
    "\n",
    "# Llamada con argumentos por posición\n",
    "describir_persona(\"Carlos\", 30, \"Bogotá\")\n",
    "\n",
    "# Llamada con argumentos por nombre\n",
    "describir_persona(edad=30, ciudad=\"Bogotá\", nombre=\"Carlos\")"
   ]
  },
  {
   "cell_type": "markdown",
   "metadata": {},
   "source": [
    "# Módulos e importaciones \n",
    "## Importación de módulos \n",
    "Se puede dividir en código en archivos `.py`. Esto facilita la reutilización del código y la organización del proyecto\n"
   ]
  },
  {
   "cell_type": "markdown",
   "metadata": {},
   "source": [
    "### Uso de `import`\n",
    "* Puedes importar un módulo completo usando la instrucción `import`"
   ]
  },
  {
   "cell_type": "code",
   "execution_count": null,
   "metadata": {},
   "outputs": [
    {
     "name": "stdout",
     "output_type": "stream",
     "text": [
      "4.0\n"
     ]
    }
   ],
   "source": [
    "import math  # Importa todo el módulo math\n",
    "\n",
    "resultado = math.sqrt(16)  \n",
    "print(resultado)  "
   ]
  },
  {
   "cell_type": "markdown",
   "metadata": {},
   "source": [
    "### Uso de `from ... import`\n",
    "* Se importan funciones o variables específicas usando `from ... import`"
   ]
  },
  {
   "cell_type": "code",
   "execution_count": null,
   "metadata": {},
   "outputs": [
    {
     "name": "stdout",
     "output_type": "stream",
     "text": [
      "5.0\n"
     ]
    }
   ],
   "source": [
    "from math import sqrt  \n",
    "\n",
    "resultado = sqrt(25)  \n",
    "print(resultado)  "
   ]
  },
  {
   "cell_type": "markdown",
   "metadata": {},
   "source": [
    "### Alias para módulos \n",
    "* Se usa el operador `as`para dar un alias al modulo importado "
   ]
  },
  {
   "cell_type": "code",
   "execution_count": null,
   "metadata": {},
   "outputs": [
    {
     "name": "stdout",
     "output_type": "stream",
     "text": [
      "3.0\n"
     ]
    }
   ],
   "source": [
    "import math as m  \n",
    "\n",
    "resultado = m.sqrt(9)\n",
    "print(resultado)  "
   ]
  },
  {
   "cell_type": "markdown",
   "metadata": {},
   "source": [
    "## Módulos estándar \n",
    "Son módulos proporcionados por python que tienen funciones útiles \n"
   ]
  },
  {
   "cell_type": "markdown",
   "metadata": {},
   "source": [
    "Módulo `math`\n",
    "* Este módulo proporciona funciones matemáticas avanzadas "
   ]
  },
  {
   "cell_type": "code",
   "execution_count": null,
   "metadata": {},
   "outputs": [
    {
     "name": "stdout",
     "output_type": "stream",
     "text": [
      "3.141592653589793\n",
      "8.0\n"
     ]
    }
   ],
   "source": [
    "import math\n",
    "\n",
    "print(math.pi)  # Valor de pi\n",
    "print(math.pow(2, 3))  # 2 elevado a la 3"
   ]
  },
  {
   "cell_type": "markdown",
   "metadata": {},
   "source": [
    "Módulo `random`\n",
    "* Se utiliza para crear una serie de números aleatorios "
   ]
  },
  {
   "cell_type": "code",
   "execution_count": null,
   "metadata": {},
   "outputs": [
    {
     "name": "stdout",
     "output_type": "stream",
     "text": [
      "6\n"
     ]
    }
   ],
   "source": [
    "import random\n",
    "\n",
    "numero_aleatorio = random.randint(1, 10)  \n",
    "print(numero_aleatorio)"
   ]
  },
  {
   "cell_type": "markdown",
   "metadata": {},
   "source": [
    "Módulo `datetime`\n",
    "* Define fechas y horas"
   ]
  },
  {
   "cell_type": "code",
   "execution_count": null,
   "metadata": {},
   "outputs": [
    {
     "name": "stdout",
     "output_type": "stream",
     "text": [
      "2024-09-16 15:45:41.897827\n"
     ]
    }
   ],
   "source": [
    "import datetime\n",
    "\n",
    "fecha_actual = datetime.datetime.now()  \n",
    "print(fecha_actual)"
   ]
  },
  {
   "cell_type": "markdown",
   "metadata": {},
   "source": [
    "## Creación de módulos propios \n",
    "Se crean guardando funciones y variables en archivos `.py`"
   ]
  },
  {
   "cell_type": "code",
   "execution_count": null,
   "metadata": {},
   "outputs": [],
   "source": [
    "# Supongamos un archivo llamado mimodulo.py\n",
    "def saludar(nombre):\n",
    "    print(f\"¡Hola, {nombre}!\")\n",
    "\n",
    "def despedirse():\n",
    "    print(\"¡Adiós!\")\n"
   ]
  },
  {
   "cell_type": "markdown",
   "metadata": {},
   "source": [
    "Luego, en otro archivo se puede importar y usar la función de este módulo"
   ]
  },
  {
   "cell_type": "code",
   "execution_count": null,
   "metadata": {},
   "outputs": [
    {
     "ename": "ModuleNotFoundError",
     "evalue": "No module named 'mimodulo'",
     "output_type": "error",
     "traceback": [
      "\u001b[1;31m---------------------------------------------------------------------------\u001b[0m",
      "\u001b[1;31mModuleNotFoundError\u001b[0m                       Traceback (most recent call last)",
      "Cell \u001b[1;32mIn[1], line 2\u001b[0m\n\u001b[0;32m      1\u001b[0m \u001b[38;5;66;03m# Archivo principal.py\u001b[39;00m\n\u001b[1;32m----> 2\u001b[0m \u001b[38;5;28;01mimport\u001b[39;00m \u001b[38;5;21;01mmimodulo\u001b[39;00m\n\u001b[0;32m      4\u001b[0m mimodulo\u001b[38;5;241m.\u001b[39msaludar(\u001b[38;5;124m\"\u001b[39m\u001b[38;5;124mAna\u001b[39m\u001b[38;5;124m\"\u001b[39m)  \n\u001b[0;32m      5\u001b[0m mimodulo\u001b[38;5;241m.\u001b[39mdespedirse()  \n",
      "\u001b[1;31mModuleNotFoundError\u001b[0m: No module named 'mimodulo'"
     ]
    }
   ],
   "source": [
    "# Archivo principal.py\n",
    "import mimodulo\n",
    "\n",
    "mimodulo.saludar(\"Ana\")  \n",
    "mimodulo.despedirse()  "
   ]
  },
  {
   "cell_type": "markdown",
   "metadata": {},
   "source": [
    "### Uso de `__name__== \"__main__\"`\n",
    "Esta permite ejecutar un archivo como un script o importarlo como módulo sin que se ejecute el código\n",
    "* Cuando un archivo es ejecutado directamente, la variable `__name__` se establece en `\"__main__\"`. Si el archivo es importado, `__name__` toma el valor del nombre del módulo."
   ]
  },
  {
   "cell_type": "code",
   "execution_count": null,
   "metadata": {},
   "outputs": [
    {
     "name": "stdout",
     "output_type": "stream",
     "text": [
      "¡Hola!\n"
     ]
    }
   ],
   "source": [
    "# archivo prueba.py\n",
    "def saludar():\n",
    "    print(\"¡Hola!\")\n",
    "\n",
    "if __name__ == \"__main__\":\n",
    "    saludar()  # Esta línea solo se ejecutará si se ejecuta directamente este archivo"
   ]
  },
  {
   "cell_type": "markdown",
   "metadata": {},
   "source": [
    "Si se ejecuta `prueba.py`directamente, se imprime ¡Hola!. Si se importa de otro archivo, la función saludar no se ejecutará automáticamente "
   ]
  }
 ],
 "metadata": {
  "kernelspec": {
   "display_name": "Python 3",
   "language": "python",
   "name": "python3"
  },
  "language_info": {
   "codemirror_mode": {
    "name": "ipython",
    "version": 3
   },
   "file_extension": ".py",
   "mimetype": "text/x-python",
   "name": "python",
   "nbconvert_exporter": "python",
   "pygments_lexer": "ipython3",
   "version": "3.12.5"
  }
 },
 "nbformat": 4,
 "nbformat_minor": 2
}
